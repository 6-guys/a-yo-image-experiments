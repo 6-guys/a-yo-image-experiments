{
 "cells": [
  {
   "cell_type": "code",
   "execution_count": 1,
   "id": "6541a7e2-a393-4b43-8c9e-fed38b683802",
   "metadata": {},
   "outputs": [],
   "source": [
    "import tensorflow as tf\n",
    "from tensorflow.keras import layers, models\n",
    "from PIL import Image\n",
    "import numpy as np\n",
    "import os"
   ]
  },
  {
   "cell_type": "code",
   "execution_count": 2,
   "id": "e690ac98-4390-4e58-af74-46254e120246",
   "metadata": {},
   "outputs": [
    {
     "name": "stderr",
     "output_type": "stream",
     "text": [
      "2024-10-22 14:35:08.632690: I metal_plugin/src/device/metal_device.cc:1154] Metal device set to: Apple M1\n",
      "2024-10-22 14:35:08.632714: I metal_plugin/src/device/metal_device.cc:296] systemMemory: 8.00 GB\n",
      "2024-10-22 14:35:08.632720: I metal_plugin/src/device/metal_device.cc:313] maxCacheSize: 2.67 GB\n",
      "2024-10-22 14:35:08.632787: I tensorflow/core/common_runtime/pluggable_device/pluggable_device_factory.cc:303] Could not identify NUMA node of platform GPU ID 0, defaulting to 0. Your kernel may not have been built with NUMA support.\n",
      "2024-10-22 14:35:08.633036: I tensorflow/core/common_runtime/pluggable_device/pluggable_device_factory.cc:269] Created TensorFlow device (/job:localhost/replica:0/task:0/device:GPU:0 with 0 MB memory) -> physical PluggableDevice (device: 0, name: METAL, pci bus id: <undefined>)\n"
     ]
    },
    {
     "name": "stdout",
     "output_type": "stream",
     "text": [
      "Model: \"frame_predictor_model\"\n",
      "_________________________________________________________________\n",
      " Layer (type)                Output Shape              Param #   \n",
      "=================================================================\n",
      " encoder_input (InputLayer)  [(None, 128, 128, 3)]     0         \n",
      "                                                                 \n",
      " conv2d (Conv2D)             (None, 128, 128, 64)      1792      \n",
      "                                                                 \n",
      " max_pooling2d (MaxPooling2  (None, 64, 64, 64)        0         \n",
      " D)                                                              \n",
      "                                                                 \n",
      " conv2d_1 (Conv2D)           (None, 64, 64, 128)       73856     \n",
      "                                                                 \n",
      " max_pooling2d_1 (MaxPoolin  (None, 32, 32, 128)       0         \n",
      " g2D)                                                            \n",
      "                                                                 \n",
      " conv2d_2 (Conv2D)           (None, 32, 32, 256)       295168    \n",
      "                                                                 \n",
      " global_average_pooling2d (  (None, 256)               0         \n",
      " GlobalAveragePooling2D)                                         \n",
      "                                                                 \n",
      " latent_vector (Dense)       (None, 512)               131584    \n",
      "                                                                 \n",
      " dense (Dense)               (None, 442368)            226934784 \n",
      "                                                                 \n",
      " decoder_output (Reshape)    (None, 9, 128, 128, 3)    0         \n",
      "                                                                 \n",
      "=================================================================\n",
      "Total params: 227437184 (867.60 MB)\n",
      "Trainable params: 227437184 (867.60 MB)\n",
      "Non-trainable params: 0 (0.00 Byte)\n",
      "_________________________________________________________________\n"
     ]
    }
   ],
   "source": [
    "def build_model(input_shape, output_frames):\n",
    "    \"\"\"\n",
    "    Builds a CNN-based encoder-decoder model for animation frame prediction.\n",
    "    \n",
    "    Parameters:\n",
    "    input_shape (tuple): The shape of the input frame (height, width, channels).\n",
    "    output_frames (int): The number of frames to generate as output.\n",
    "    \n",
    "    Returns:\n",
    "    model: The compiled Keras model.\n",
    "    \"\"\"\n",
    "    # Encoder\n",
    "    encoder_input = layers.Input(shape=input_shape, name='encoder_input')\n",
    "    \n",
    "    # CNN layers to encode the first frame\n",
    "    x = layers.Conv2D(64, (3, 3), padding='same', activation='relu')(encoder_input)\n",
    "    x = layers.MaxPooling2D((2, 2))(x)\n",
    "    x = layers.Conv2D(128, (3, 3), padding='same', activation='relu')(x)\n",
    "    x = layers.MaxPooling2D((2, 2))(x)\n",
    "    x = layers.Conv2D(256, (3, 3), padding='same', activation='relu')(x)\n",
    "    x = layers.GlobalAveragePooling2D()(x)\n",
    "\n",
    "    # Latent representation\n",
    "    latent = layers.Dense(512, activation='relu', name='latent_vector')(x)\n",
    "\n",
    "    # Decoder (generate multiple frames)\n",
    "    decoder_output = layers.Dense(output_frames * input_shape[0] * input_shape[1] * input_shape[2], activation='sigmoid')(latent)\n",
    "    decoder_output = layers.Reshape((output_frames, input_shape[0], input_shape[1], input_shape[2]), name='decoder_output')(decoder_output)\n",
    "\n",
    "    # Build and compile the model\n",
    "    model = models.Model(encoder_input, decoder_output, name='frame_predictor_model')\n",
    "    \n",
    "    model.compile(optimizer='adam', loss='mse', metrics=['mae'])\n",
    "    return model\n",
    "\n",
    "# Define input shape for 128x128x3 images\n",
    "input_shape = (128, 128, 3)  # Height, Width, Channels\n",
    "output_frames = 9  # Number of frames to predict\n",
    "\n",
    "# Build the model\n",
    "model = build_model(input_shape, output_frames)\n",
    "\n",
    "# Print model summary\n",
    "model.summary()\n"
   ]
  },
  {
   "cell_type": "code",
   "execution_count": 3,
   "id": "c20e4a1f-7a12-4a20-a48e-9f2a9a14b8c3",
   "metadata": {},
   "outputs": [],
   "source": [
    "def load_animation_data(image_folder, num_frames):\n",
    "    \"\"\"\n",
    "    Loads animation frames from a folder and prepares separate data for the model.\n",
    "    \n",
    "    Parameters:\n",
    "    image_folder (str): The folder containing image sequences.\n",
    "    num_frames (int): The total number of frames in each animation sequence (including the input and the output frames).\n",
    "    \n",
    "    Returns:\n",
    "    X (list): List of the first frames (input data).\n",
    "    Y (list): List of lists containing the subsequent frames (output data).\n",
    "    \"\"\"\n",
    "    # Initialize lists for input and output frames\n",
    "    X = []\n",
    "    Y = []\n",
    "    \n",
    "    # Process images according to the naming convention \"frame_{i}_{frame_num}.png\"\n",
    "    for i in range(len(os.listdir(image_folder)) // num_frames):\n",
    "        input_frame_path = os.path.join(image_folder, f\"frame_{i}_0.png\")\n",
    "        # Load the input frame (frame_{i}_0) and convert to RGB\n",
    "        input_img = Image.open(input_frame_path).convert('RGB').resize((128, 128))  # Resize to 128x128 if needed\n",
    "        input_array = np.array(input_img) / 255.0  # Normalize pixel values to [0, 1]\n",
    "        X.append(input_array)\n",
    "\n",
    "        # Collect outputs for this input frame\n",
    "        output_frames = []\n",
    "        for j in range(1, num_frames):\n",
    "            output_frame_path = os.path.join(image_folder, f\"frame_{i}_{j}.png\")\n",
    "            output_img = Image.open(output_frame_path).convert('RGB').resize((128, 128))  # Resize to 128x128 if needed\n",
    "            output_array = np.array(output_img) / 255.0  # Normalize pixel values to [0, 1]\n",
    "            output_frames.append(output_array)\n",
    "        \n",
    "        # Append list of output frames for this input frame\n",
    "        Y.append(output_frames)\n",
    "\n",
    "    return np.array(X), np.array(Y)"
   ]
  },
  {
   "cell_type": "code",
   "execution_count": 4,
   "id": "779d7a75-3a14-40c3-b332-ef34bdc59623",
   "metadata": {},
   "outputs": [
    {
     "name": "stdout",
     "output_type": "stream",
     "text": [
      "X_train shape: (5, 128, 128, 3)\n",
      "Y_train shape: (5, 9, 128, 128, 3)\n"
     ]
    }
   ],
   "source": [
    "image_folder = \"/Users/lofichill/Desktop/NIPA/project/output_frames\"\n",
    "num_frames = 10  # Total frames in sequence: 1 input + 9 output\n",
    "X_train, Y_train = load_animation_data(image_folder, num_frames)\n",
    "\n",
    "print(f\"X_train shape: {X_train.shape}\")  # Should be (num_sequences, 128, 128, 3)\n",
    "print(f\"Y_train shape: {Y_train.shape}\")  # Should be (num_sequences, 9, 128, 128, 3)\n"
   ]
  },
  {
   "cell_type": "code",
   "execution_count": 5,
   "id": "7133de22-7ec4-4c5c-ac03-5ff4e6abb035",
   "metadata": {},
   "outputs": [
    {
     "name": "stdout",
     "output_type": "stream",
     "text": [
      "Epoch 1/50\n"
     ]
    },
    {
     "name": "stderr",
     "output_type": "stream",
     "text": [
      "2024-10-22 14:35:17.776976: I tensorflow/core/grappler/optimizers/custom_graph_optimizer_registry.cc:114] Plugin optimizer for device_type GPU is enabled.\n"
     ]
    },
    {
     "name": "stdout",
     "output_type": "stream",
     "text": [
      "1/1 [==============================] - 4s 4s/step - loss: 0.2438 - mae: 0.4919 - val_loss: 0.2446 - val_mae: 0.4931\n",
      "Epoch 2/50\n"
     ]
    },
    {
     "name": "stderr",
     "output_type": "stream",
     "text": [
      "2024-10-22 14:35:20.708505: I tensorflow/core/grappler/optimizers/custom_graph_optimizer_registry.cc:114] Plugin optimizer for device_type GPU is enabled.\n"
     ]
    },
    {
     "name": "stdout",
     "output_type": "stream",
     "text": [
      "1/1 [==============================] - 0s 444ms/step - loss: 0.2437 - mae: 0.4917 - val_loss: 0.2443 - val_mae: 0.4928\n",
      "Epoch 3/50\n",
      "1/1 [==============================] - 0s 384ms/step - loss: 0.2434 - mae: 0.4915 - val_loss: 0.2437 - val_mae: 0.4922\n",
      "Epoch 4/50\n",
      "1/1 [==============================] - 0s 418ms/step - loss: 0.2428 - mae: 0.4909 - val_loss: 0.2423 - val_mae: 0.4908\n",
      "Epoch 5/50\n",
      "1/1 [==============================] - 0s 492ms/step - loss: 0.2413 - mae: 0.4894 - val_loss: 0.2388 - val_mae: 0.4873\n",
      "Epoch 6/50\n",
      "1/1 [==============================] - 0s 480ms/step - loss: 0.2379 - mae: 0.4859 - val_loss: 0.2310 - val_mae: 0.4792\n",
      "Epoch 7/50\n",
      "1/1 [==============================] - 0s 437ms/step - loss: 0.2301 - mae: 0.4778 - val_loss: 0.2142 - val_mae: 0.4614\n",
      "Epoch 8/50\n",
      "1/1 [==============================] - 0s 464ms/step - loss: 0.2132 - mae: 0.4599 - val_loss: 0.1815 - val_mae: 0.4244\n",
      "Epoch 9/50\n",
      "1/1 [==============================] - 0s 416ms/step - loss: 0.1804 - mae: 0.4229 - val_loss: 0.1272 - val_mae: 0.3541\n",
      "Epoch 10/50\n",
      "1/1 [==============================] - 0s 459ms/step - loss: 0.1259 - mae: 0.3523 - val_loss: 0.0615 - val_mae: 0.2403\n",
      "Epoch 11/50\n",
      "1/1 [==============================] - 0s 417ms/step - loss: 0.0595 - mae: 0.2379 - val_loss: 0.0208 - val_mae: 0.1126\n",
      "Epoch 12/50\n",
      "1/1 [==============================] - 0s 405ms/step - loss: 0.0175 - mae: 0.1092 - val_loss: 0.0145 - val_mae: 0.0434\n",
      "Epoch 13/50\n",
      "1/1 [==============================] - 0s 470ms/step - loss: 0.0103 - mae: 0.0392 - val_loss: 0.0155 - val_mae: 0.0269\n",
      "Epoch 14/50\n",
      "1/1 [==============================] - 0s 451ms/step - loss: 0.0109 - mae: 0.0224 - val_loss: 0.0157 - val_mae: 0.0247\n",
      "Epoch 15/50\n",
      "1/1 [==============================] - 0s 451ms/step - loss: 0.0112 - mae: 0.0203 - val_loss: 0.0154 - val_mae: 0.0246\n",
      "Epoch 16/50\n",
      "1/1 [==============================] - 1s 515ms/step - loss: 0.0113 - mae: 0.0206 - val_loss: 0.0152 - val_mae: 0.0248\n",
      "Epoch 17/50\n",
      "1/1 [==============================] - 1s 538ms/step - loss: 0.0115 - mae: 0.0213 - val_loss: 0.0152 - val_mae: 0.0246\n",
      "Epoch 18/50\n",
      "1/1 [==============================] - 1s 531ms/step - loss: 0.0114 - mae: 0.0209 - val_loss: 0.0154 - val_mae: 0.0242\n",
      "Epoch 19/50\n",
      "1/1 [==============================] - 1s 533ms/step - loss: 0.0116 - mae: 0.0205 - val_loss: 0.0164 - val_mae: 0.0249\n",
      "Epoch 20/50\n",
      "1/1 [==============================] - 1s 518ms/step - loss: 0.0121 - mae: 0.0208 - val_loss: 0.0159 - val_mae: 0.0245\n",
      "Epoch 21/50\n",
      "1/1 [==============================] - 1s 548ms/step - loss: 0.0119 - mae: 0.0208 - val_loss: 0.0160 - val_mae: 0.0245\n",
      "Epoch 22/50\n",
      "1/1 [==============================] - 0s 500ms/step - loss: 0.0121 - mae: 0.0210 - val_loss: 0.0166 - val_mae: 0.0250\n",
      "Epoch 23/50\n",
      "1/1 [==============================] - 1s 530ms/step - loss: 0.0125 - mae: 0.0212 - val_loss: 0.0167 - val_mae: 0.0247\n",
      "Epoch 24/50\n",
      "1/1 [==============================] - 1s 522ms/step - loss: 0.0125 - mae: 0.0209 - val_loss: 0.0169 - val_mae: 0.0247\n",
      "Epoch 25/50\n",
      "1/1 [==============================] - 0s 452ms/step - loss: 0.0130 - mae: 0.0212 - val_loss: 0.0173 - val_mae: 0.0251\n",
      "Epoch 26/50\n",
      "1/1 [==============================] - 0s 451ms/step - loss: 0.0131 - mae: 0.0213 - val_loss: 0.0181 - val_mae: 0.0254\n",
      "Epoch 27/50\n",
      "1/1 [==============================] - 1s 588ms/step - loss: 0.0135 - mae: 0.0214 - val_loss: 0.0181 - val_mae: 0.0252\n",
      "Epoch 28/50\n",
      "1/1 [==============================] - 1s 858ms/step - loss: 0.0137 - mae: 0.0214 - val_loss: 0.0185 - val_mae: 0.0254\n",
      "Epoch 29/50\n",
      "1/1 [==============================] - 0s 451ms/step - loss: 0.0140 - mae: 0.0216 - val_loss: 0.0189 - val_mae: 0.0256\n",
      "Epoch 30/50\n",
      "1/1 [==============================] - 1s 524ms/step - loss: 0.0142 - mae: 0.0215 - val_loss: 0.0192 - val_mae: 0.0257\n",
      "Epoch 31/50\n",
      "1/1 [==============================] - 0s 395ms/step - loss: 0.0144 - mae: 0.0216 - val_loss: 0.0193 - val_mae: 0.0257\n",
      "Epoch 32/50\n",
      "1/1 [==============================] - 0s 422ms/step - loss: 0.0146 - mae: 0.0217 - val_loss: 0.0195 - val_mae: 0.0258\n",
      "Epoch 33/50\n",
      "1/1 [==============================] - 0s 413ms/step - loss: 0.0147 - mae: 0.0218 - val_loss: 0.0196 - val_mae: 0.0258\n",
      "Epoch 34/50\n",
      "1/1 [==============================] - 0s 405ms/step - loss: 0.0148 - mae: 0.0217 - val_loss: 0.0198 - val_mae: 0.0259\n",
      "Epoch 35/50\n",
      "1/1 [==============================] - 0s 419ms/step - loss: 0.0149 - mae: 0.0218 - val_loss: 0.0198 - val_mae: 0.0258\n",
      "Epoch 36/50\n",
      "1/1 [==============================] - 0s 403ms/step - loss: 0.0150 - mae: 0.0218 - val_loss: 0.0199 - val_mae: 0.0259\n",
      "Epoch 37/50\n",
      "1/1 [==============================] - 0s 412ms/step - loss: 0.0151 - mae: 0.0219 - val_loss: 0.0201 - val_mae: 0.0260\n",
      "Epoch 38/50\n",
      "1/1 [==============================] - 0s 437ms/step - loss: 0.0152 - mae: 0.0219 - val_loss: 0.0202 - val_mae: 0.0260\n",
      "Epoch 39/50\n",
      "1/1 [==============================] - 0s 419ms/step - loss: 0.0152 - mae: 0.0219 - val_loss: 0.0203 - val_mae: 0.0261\n",
      "Epoch 40/50\n",
      "1/1 [==============================] - 1s 512ms/step - loss: 0.0153 - mae: 0.0219 - val_loss: 0.0203 - val_mae: 0.0261\n",
      "Epoch 41/50\n",
      "1/1 [==============================] - 0s 415ms/step - loss: 0.0153 - mae: 0.0220 - val_loss: 0.0204 - val_mae: 0.0261\n",
      "Epoch 42/50\n",
      "1/1 [==============================] - 0s 450ms/step - loss: 0.0154 - mae: 0.0219 - val_loss: 0.0205 - val_mae: 0.0262\n",
      "Epoch 43/50\n",
      "1/1 [==============================] - 0s 399ms/step - loss: 0.0154 - mae: 0.0220 - val_loss: 0.0205 - val_mae: 0.0262\n",
      "Epoch 44/50\n",
      "1/1 [==============================] - 0s 442ms/step - loss: 0.0155 - mae: 0.0220 - val_loss: 0.0205 - val_mae: 0.0262\n",
      "Epoch 45/50\n",
      "1/1 [==============================] - 0s 428ms/step - loss: 0.0155 - mae: 0.0220 - val_loss: 0.0206 - val_mae: 0.0262\n",
      "Epoch 46/50\n",
      "1/1 [==============================] - 0s 447ms/step - loss: 0.0155 - mae: 0.0220 - val_loss: 0.0206 - val_mae: 0.0262\n",
      "Epoch 47/50\n",
      "1/1 [==============================] - 0s 439ms/step - loss: 0.0155 - mae: 0.0220 - val_loss: 0.0206 - val_mae: 0.0262\n",
      "Epoch 48/50\n",
      "1/1 [==============================] - 0s 398ms/step - loss: 0.0156 - mae: 0.0220 - val_loss: 0.0207 - val_mae: 0.0262\n",
      "Epoch 49/50\n",
      "1/1 [==============================] - 0s 465ms/step - loss: 0.0156 - mae: 0.0220 - val_loss: 0.0207 - val_mae: 0.0263\n",
      "Epoch 50/50\n",
      "1/1 [==============================] - 0s 488ms/step - loss: 0.0156 - mae: 0.0221 - val_loss: 0.0207 - val_mae: 0.0263\n"
     ]
    },
    {
     "data": {
      "text/plain": [
       "<keras.src.callbacks.History at 0x149c59eb0>"
      ]
     },
     "execution_count": 5,
     "metadata": {},
     "output_type": "execute_result"
    }
   ],
   "source": [
    "# Train the model\n",
    "model.fit(X_train, Y_train, epochs=50, batch_size=32, validation_split=0.1)"
   ]
  },
  {
   "cell_type": "code",
   "execution_count": 6,
   "id": "8b7bd0e3-ba2e-4d13-a93a-e2f1276bdd7b",
   "metadata": {},
   "outputs": [],
   "source": [
    "def prepare_input_image(image_path):\n",
    "    \"\"\"\n",
    "    Load and prepare a single input image for prediction.\n",
    "\n",
    "    Parameters:\n",
    "    image_path (str): Path to the input image.\n",
    "\n",
    "    Returns:\n",
    "    numpy array: Preprocessed image ready for model prediction.\n",
    "    \"\"\"\n",
    "    # Load the image and convert to RGB\n",
    "    img = Image.open(image_path).convert('RGB').resize((128, 128))\n",
    "    \n",
    "    # Convert image to NumPy array and normalize pixel values\n",
    "    img_array = np.array(img) / 255.0  # Normalize to [0, 1]\n",
    "    \n",
    "    # Add a batch dimension (1, 128, 128, 3)\n",
    "    img_array = np.expand_dims(img_array, axis=0)\n",
    "\n",
    "    return img_array"
   ]
  },
  {
   "cell_type": "code",
   "execution_count": 7,
   "id": "4630210a-f033-4a7e-b251-ae495369b7b8",
   "metadata": {},
   "outputs": [
    {
     "name": "stdout",
     "output_type": "stream",
     "text": [
      "1/1 [==============================] - 0s 207ms/step\n"
     ]
    },
    {
     "name": "stderr",
     "output_type": "stream",
     "text": [
      "2024-10-22 14:36:15.553505: I tensorflow/core/grappler/optimizers/custom_graph_optimizer_registry.cc:114] Plugin optimizer for device_type GPU is enabled.\n"
     ]
    },
    {
     "name": "stdout",
     "output_type": "stream",
     "text": [
      "Predicted frames shape: (9, 128, 128, 3)\n"
     ]
    }
   ],
   "source": [
    "# Example usage\n",
    "image_path = \"/Users/lofichill/Desktop/NIPA/project/test_frames/frame_5_0.png\"  # Replace with your image path\n",
    "input_image = prepare_input_image(image_path)\n",
    "\n",
    "# Load your trained model\n",
    "# model = tf.keras.models.load_model('path_to_your_saved_model')  # Uncomment and specify your model path\n",
    "\n",
    "# Predict using the model\n",
    "predicted_frames = model.predict(input_image)\n",
    "\n",
    "# Post-process the predicted frames if necessary\n",
    "predicted_frames = predicted_frames.squeeze()  # Remove the batch dimension if needed\n",
    "print(f\"Predicted frames shape: {predicted_frames.shape}\")  # Should be (9, 128, 128, 3)\n",
    "\n",
    "# Optionally, save the predicted frames or display them\n",
    "for i in range(predicted_frames.shape[0]):\n",
    "    frame = (predicted_frames[i] * 255).astype(np.uint8)  # Convert back to [0, 255]\n",
    "    # Image.fromarray(frame).save(f\"predicted_frame_{i}.png\")"
   ]
  },
  {
   "cell_type": "code",
   "execution_count": 8,
   "id": "cb7a7d5b-b1f4-45ef-a3e3-bd0f37d65ca6",
   "metadata": {},
   "outputs": [
    {
     "data": {
      "image/png": "[encoded data removed]",
      "text/plain": [
       "<Figure size 1500x500 with 9 Axes>"
      ]
     },
     "metadata": {},
     "output_type": "display_data"
    }
   ],
   "source": [
    "import matplotlib.pyplot as plt\n",
    "\n",
    "def display_predicted_frames(predicted_frames):\n",
    "    \"\"\"\n",
    "    Display predicted frames using Matplotlib.\n",
    "\n",
    "    Parameters:\n",
    "    predicted_frames (numpy array): Array of predicted frames.\n",
    "    \"\"\"\n",
    "    num_frames = predicted_frames.shape[0]\n",
    "\n",
    "    # Create a figure to display the frames\n",
    "    plt.figure(figsize=(15, 5))\n",
    "\n",
    "    for i in range(num_frames):\n",
    "        plt.subplot(1, num_frames, i + 1)  # Create a subplot for each frame\n",
    "        plt.imshow(predicted_frames[i])  # Display the frame\n",
    "        plt.axis('off')  # Hide the axes\n",
    "        plt.title(f'Frame {i}')  # Optional: add title to each frame\n",
    "\n",
    "    plt.tight_layout()  # Adjust subplots to fit in to the figure area.\n",
    "    plt.show()  # Show the plot\n",
    "\n",
    "# Example usage after prediction\n",
    "display_predicted_frames(predicted_frames)"
   ]
  },
  {
   "cell_type": "code",
   "execution_count": null,
   "id": "ac320e15-1099-4bbc-a499-bf9786671224",
   "metadata": {},
   "outputs": [],
   "source": []
  }
 ],
 "metadata": {
  "kernelspec": {
   "display_name": "Python 3 (ipykernel)",
   "language": "python",
   "name": "python3"
  },
  "language_info": {
   "codemirror_mode": {
    "name": "ipython",
    "version": 3
   },
   "file_extension": ".py",
   "mimetype": "text/x-python",
   "name": "python",
   "nbconvert_exporter": "python",
   "pygments_lexer": "ipython3",
   "version": "3.8.16"
  }
 },
 "nbformat": 4,
 "nbformat_minor": 5
}
